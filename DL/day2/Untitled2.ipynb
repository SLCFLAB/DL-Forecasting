{
 "cells": [
  {
   "cell_type": "code",
   "execution_count": 36,
   "id": "acd1d664",
   "metadata": {},
   "outputs": [],
   "source": [
    "import numpy as np\n",
    "import pandas as pd"
   ]
  },
  {
   "cell_type": "code",
   "execution_count": 37,
   "id": "80447bb8",
   "metadata": {},
   "outputs": [],
   "source": [
    "data = pd.read_csv('Platinum Futures Historical Data.csv',thousands = ',')"
   ]
  },
  {
   "cell_type": "code",
   "execution_count": 38,
   "id": "b9b6e01e",
   "metadata": {},
   "outputs": [
    {
     "data": {
      "text/html": [
       "<div>\n",
       "<style scoped>\n",
       "    .dataframe tbody tr th:only-of-type {\n",
       "        vertical-align: middle;\n",
       "    }\n",
       "\n",
       "    .dataframe tbody tr th {\n",
       "        vertical-align: top;\n",
       "    }\n",
       "\n",
       "    .dataframe thead th {\n",
       "        text-align: right;\n",
       "    }\n",
       "</style>\n",
       "<table border=\"1\" class=\"dataframe\">\n",
       "  <thead>\n",
       "    <tr style=\"text-align: right;\">\n",
       "      <th></th>\n",
       "      <th>ds</th>\n",
       "      <th>y</th>\n",
       "      <th>unique_id</th>\n",
       "    </tr>\n",
       "  </thead>\n",
       "  <tbody>\n",
       "    <tr>\n",
       "      <th>0</th>\n",
       "      <td>0</td>\n",
       "      <td>937.4</td>\n",
       "      <td>platinum</td>\n",
       "    </tr>\n",
       "    <tr>\n",
       "      <th>1</th>\n",
       "      <td>1</td>\n",
       "      <td>949.9</td>\n",
       "      <td>platinum</td>\n",
       "    </tr>\n",
       "    <tr>\n",
       "      <th>2</th>\n",
       "      <td>2</td>\n",
       "      <td>956.1</td>\n",
       "      <td>platinum</td>\n",
       "    </tr>\n",
       "    <tr>\n",
       "      <th>3</th>\n",
       "      <td>3</td>\n",
       "      <td>966.0</td>\n",
       "      <td>platinum</td>\n",
       "    </tr>\n",
       "    <tr>\n",
       "      <th>4</th>\n",
       "      <td>4</td>\n",
       "      <td>974.9</td>\n",
       "      <td>platinum</td>\n",
       "    </tr>\n",
       "    <tr>\n",
       "      <th>...</th>\n",
       "      <td>...</td>\n",
       "      <td>...</td>\n",
       "      <td>...</td>\n",
       "    </tr>\n",
       "    <tr>\n",
       "      <th>1243</th>\n",
       "      <td>1243</td>\n",
       "      <td>971.0</td>\n",
       "      <td>platinum</td>\n",
       "    </tr>\n",
       "    <tr>\n",
       "      <th>1244</th>\n",
       "      <td>1244</td>\n",
       "      <td>979.8</td>\n",
       "      <td>platinum</td>\n",
       "    </tr>\n",
       "    <tr>\n",
       "      <th>1245</th>\n",
       "      <td>1245</td>\n",
       "      <td>969.7</td>\n",
       "      <td>platinum</td>\n",
       "    </tr>\n",
       "    <tr>\n",
       "      <th>1246</th>\n",
       "      <td>1246</td>\n",
       "      <td>964.6</td>\n",
       "      <td>platinum</td>\n",
       "    </tr>\n",
       "    <tr>\n",
       "      <th>1247</th>\n",
       "      <td>1247</td>\n",
       "      <td>966.2</td>\n",
       "      <td>platinum</td>\n",
       "    </tr>\n",
       "  </tbody>\n",
       "</table>\n",
       "<p>1248 rows × 3 columns</p>\n",
       "</div>"
      ],
      "text/plain": [
       "        ds      y unique_id\n",
       "0        0  937.4  platinum\n",
       "1        1  949.9  platinum\n",
       "2        2  956.1  platinum\n",
       "3        3  966.0  platinum\n",
       "4        4  974.9  platinum\n",
       "...    ...    ...       ...\n",
       "1243  1243  971.0  platinum\n",
       "1244  1244  979.8  platinum\n",
       "1245  1245  969.7  platinum\n",
       "1246  1246  964.6  platinum\n",
       "1247  1247  966.2  platinum\n",
       "\n",
       "[1248 rows x 3 columns]"
      ]
     },
     "execution_count": 38,
     "metadata": {},
     "output_type": "execute_result"
    }
   ],
   "source": [
    "data = data[['Date','Price']]\n",
    "data = data.astype({'Price':'float64'})\n",
    "data['Date'] = pd.to_datetime(data['Date'], format='%m/%d/%Y')\n",
    "data.sort_values(by='Date', inplace=True)\n",
    "data.reset_index(inplace=True,drop=True)\n",
    "data.reset_index(inplace=True)\n",
    "data.drop(columns=['Date'],inplace=True)\n",
    "data.columns = ['ds','y']\n",
    "data['unique_id'] = 'platinum'\n",
    "data"
   ]
  },
  {
   "cell_type": "code",
   "execution_count": 39,
   "id": "6c6473fe",
   "metadata": {},
   "outputs": [],
   "source": [
    "data.to_csv('platinum.csv',index=False)"
   ]
  }
 ],
 "metadata": {
  "kernelspec": {
   "display_name": "Python 3 (ipykernel)",
   "language": "python",
   "name": "python3"
  },
  "language_info": {
   "codemirror_mode": {
    "name": "ipython",
    "version": 3
   },
   "file_extension": ".py",
   "mimetype": "text/x-python",
   "name": "python",
   "nbconvert_exporter": "python",
   "pygments_lexer": "ipython3",
   "version": "3.9.13"
  }
 },
 "nbformat": 4,
 "nbformat_minor": 5
}
